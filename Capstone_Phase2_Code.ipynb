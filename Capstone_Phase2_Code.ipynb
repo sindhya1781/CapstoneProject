{
  "cells": [
    {
      "cell_type": "markdown",
      "source": [
        "# MODELING EFFORTS"
      ],
      "metadata": {
        "id": "gM9zy6PBrydW"
      }
    },
    {
      "cell_type": "code",
      "execution_count": 1,
      "metadata": {
        "id": "SNbsML-lHEF3"
      },
      "outputs": [],
      "source": [
        "import tensorflow as tf\n",
        "import numpy as np\n",
        "import pandas as pd\n",
        "import math\n",
        "from sklearn.metrics.pairwise import euclidean_distances\n",
        "from sklearn.metrics.pairwise import cosine_similarity\n",
        "from sklearn.model_selection import train_test_split\n",
        "import nltk\n",
        "from sklearn import metrics\n",
        "import matplotlib.pyplot as plt"
      ]
    },
    {
      "cell_type": "code",
      "execution_count": 2,
      "metadata": {
        "id": "W_HUeKcjP7Dm"
      },
      "outputs": [],
      "source": [
        "train_data = pd.read_csv('sign_mnist_train.csv')\n",
        "test_data = pd.read_csv('sign_mnist_test.csv')"
      ]
    },
    {
      "cell_type": "code",
      "execution_count": 3,
      "metadata": {
        "colab": {
          "base_uri": "https://localhost:8080/",
          "height": 235
        },
        "id": "nO6ekGSpQKDC",
        "outputId": "8208f959-e295-4456-a031-c513cd1b319e"
      },
      "outputs": [
        {
          "output_type": "execute_result",
          "data": {
            "text/plain": [
              "   label  pixel1  pixel2  pixel3  pixel4  pixel5  pixel6  pixel7  pixel8  \\\n",
              "0      3     107     118     127     134     139     143     146     150   \n",
              "1      6     155     157     156     156     156     157     156     158   \n",
              "2      2     187     188     188     187     187     186     187     188   \n",
              "3      2     211     211     212     212     211     210     211     210   \n",
              "4     13     164     167     170     172     176     179     180     184   \n",
              "\n",
              "   pixel9  ...  pixel775  pixel776  pixel777  pixel778  pixel779  pixel780  \\\n",
              "0     153  ...       207       207       207       207       206       206   \n",
              "1     158  ...        69       149       128        87        94       163   \n",
              "2     187  ...       202       201       200       199       198       199   \n",
              "3     210  ...       235       234       233       231       230       226   \n",
              "4     185  ...        92       105       105       108       133       163   \n",
              "\n",
              "   pixel781  pixel782  pixel783  pixel784  \n",
              "0       206       204       203       202  \n",
              "1       175       103       135       149  \n",
              "2       198       195       194       195  \n",
              "3       225       222       229       163  \n",
              "4       157       163       164       179  \n",
              "\n",
              "[5 rows x 785 columns]"
            ],
            "text/html": [
              "\n",
              "  <div id=\"df-ce9d591f-4233-46ea-9b53-4df4e02b5b6c\">\n",
              "    <div class=\"colab-df-container\">\n",
              "      <div>\n",
              "<style scoped>\n",
              "    .dataframe tbody tr th:only-of-type {\n",
              "        vertical-align: middle;\n",
              "    }\n",
              "\n",
              "    .dataframe tbody tr th {\n",
              "        vertical-align: top;\n",
              "    }\n",
              "\n",
              "    .dataframe thead th {\n",
              "        text-align: right;\n",
              "    }\n",
              "</style>\n",
              "<table border=\"1\" class=\"dataframe\">\n",
              "  <thead>\n",
              "    <tr style=\"text-align: right;\">\n",
              "      <th></th>\n",
              "      <th>label</th>\n",
              "      <th>pixel1</th>\n",
              "      <th>pixel2</th>\n",
              "      <th>pixel3</th>\n",
              "      <th>pixel4</th>\n",
              "      <th>pixel5</th>\n",
              "      <th>pixel6</th>\n",
              "      <th>pixel7</th>\n",
              "      <th>pixel8</th>\n",
              "      <th>pixel9</th>\n",
              "      <th>...</th>\n",
              "      <th>pixel775</th>\n",
              "      <th>pixel776</th>\n",
              "      <th>pixel777</th>\n",
              "      <th>pixel778</th>\n",
              "      <th>pixel779</th>\n",
              "      <th>pixel780</th>\n",
              "      <th>pixel781</th>\n",
              "      <th>pixel782</th>\n",
              "      <th>pixel783</th>\n",
              "      <th>pixel784</th>\n",
              "    </tr>\n",
              "  </thead>\n",
              "  <tbody>\n",
              "    <tr>\n",
              "      <th>0</th>\n",
              "      <td>3</td>\n",
              "      <td>107</td>\n",
              "      <td>118</td>\n",
              "      <td>127</td>\n",
              "      <td>134</td>\n",
              "      <td>139</td>\n",
              "      <td>143</td>\n",
              "      <td>146</td>\n",
              "      <td>150</td>\n",
              "      <td>153</td>\n",
              "      <td>...</td>\n",
              "      <td>207</td>\n",
              "      <td>207</td>\n",
              "      <td>207</td>\n",
              "      <td>207</td>\n",
              "      <td>206</td>\n",
              "      <td>206</td>\n",
              "      <td>206</td>\n",
              "      <td>204</td>\n",
              "      <td>203</td>\n",
              "      <td>202</td>\n",
              "    </tr>\n",
              "    <tr>\n",
              "      <th>1</th>\n",
              "      <td>6</td>\n",
              "      <td>155</td>\n",
              "      <td>157</td>\n",
              "      <td>156</td>\n",
              "      <td>156</td>\n",
              "      <td>156</td>\n",
              "      <td>157</td>\n",
              "      <td>156</td>\n",
              "      <td>158</td>\n",
              "      <td>158</td>\n",
              "      <td>...</td>\n",
              "      <td>69</td>\n",
              "      <td>149</td>\n",
              "      <td>128</td>\n",
              "      <td>87</td>\n",
              "      <td>94</td>\n",
              "      <td>163</td>\n",
              "      <td>175</td>\n",
              "      <td>103</td>\n",
              "      <td>135</td>\n",
              "      <td>149</td>\n",
              "    </tr>\n",
              "    <tr>\n",
              "      <th>2</th>\n",
              "      <td>2</td>\n",
              "      <td>187</td>\n",
              "      <td>188</td>\n",
              "      <td>188</td>\n",
              "      <td>187</td>\n",
              "      <td>187</td>\n",
              "      <td>186</td>\n",
              "      <td>187</td>\n",
              "      <td>188</td>\n",
              "      <td>187</td>\n",
              "      <td>...</td>\n",
              "      <td>202</td>\n",
              "      <td>201</td>\n",
              "      <td>200</td>\n",
              "      <td>199</td>\n",
              "      <td>198</td>\n",
              "      <td>199</td>\n",
              "      <td>198</td>\n",
              "      <td>195</td>\n",
              "      <td>194</td>\n",
              "      <td>195</td>\n",
              "    </tr>\n",
              "    <tr>\n",
              "      <th>3</th>\n",
              "      <td>2</td>\n",
              "      <td>211</td>\n",
              "      <td>211</td>\n",
              "      <td>212</td>\n",
              "      <td>212</td>\n",
              "      <td>211</td>\n",
              "      <td>210</td>\n",
              "      <td>211</td>\n",
              "      <td>210</td>\n",
              "      <td>210</td>\n",
              "      <td>...</td>\n",
              "      <td>235</td>\n",
              "      <td>234</td>\n",
              "      <td>233</td>\n",
              "      <td>231</td>\n",
              "      <td>230</td>\n",
              "      <td>226</td>\n",
              "      <td>225</td>\n",
              "      <td>222</td>\n",
              "      <td>229</td>\n",
              "      <td>163</td>\n",
              "    </tr>\n",
              "    <tr>\n",
              "      <th>4</th>\n",
              "      <td>13</td>\n",
              "      <td>164</td>\n",
              "      <td>167</td>\n",
              "      <td>170</td>\n",
              "      <td>172</td>\n",
              "      <td>176</td>\n",
              "      <td>179</td>\n",
              "      <td>180</td>\n",
              "      <td>184</td>\n",
              "      <td>185</td>\n",
              "      <td>...</td>\n",
              "      <td>92</td>\n",
              "      <td>105</td>\n",
              "      <td>105</td>\n",
              "      <td>108</td>\n",
              "      <td>133</td>\n",
              "      <td>163</td>\n",
              "      <td>157</td>\n",
              "      <td>163</td>\n",
              "      <td>164</td>\n",
              "      <td>179</td>\n",
              "    </tr>\n",
              "  </tbody>\n",
              "</table>\n",
              "<p>5 rows × 785 columns</p>\n",
              "</div>\n",
              "      <button class=\"colab-df-convert\" onclick=\"convertToInteractive('df-ce9d591f-4233-46ea-9b53-4df4e02b5b6c')\"\n",
              "              title=\"Convert this dataframe to an interactive table.\"\n",
              "              style=\"display:none;\">\n",
              "        \n",
              "  <svg xmlns=\"http://www.w3.org/2000/svg\" height=\"24px\"viewBox=\"0 0 24 24\"\n",
              "       width=\"24px\">\n",
              "    <path d=\"M0 0h24v24H0V0z\" fill=\"none\"/>\n",
              "    <path d=\"M18.56 5.44l.94 2.06.94-2.06 2.06-.94-2.06-.94-.94-2.06-.94 2.06-2.06.94zm-11 1L8.5 8.5l.94-2.06 2.06-.94-2.06-.94L8.5 2.5l-.94 2.06-2.06.94zm10 10l.94 2.06.94-2.06 2.06-.94-2.06-.94-.94-2.06-.94 2.06-2.06.94z\"/><path d=\"M17.41 7.96l-1.37-1.37c-.4-.4-.92-.59-1.43-.59-.52 0-1.04.2-1.43.59L10.3 9.45l-7.72 7.72c-.78.78-.78 2.05 0 2.83L4 21.41c.39.39.9.59 1.41.59.51 0 1.02-.2 1.41-.59l7.78-7.78 2.81-2.81c.8-.78.8-2.07 0-2.86zM5.41 20L4 18.59l7.72-7.72 1.47 1.35L5.41 20z\"/>\n",
              "  </svg>\n",
              "      </button>\n",
              "      \n",
              "  <style>\n",
              "    .colab-df-container {\n",
              "      display:flex;\n",
              "      flex-wrap:wrap;\n",
              "      gap: 12px;\n",
              "    }\n",
              "\n",
              "    .colab-df-convert {\n",
              "      background-color: #E8F0FE;\n",
              "      border: none;\n",
              "      border-radius: 50%;\n",
              "      cursor: pointer;\n",
              "      display: none;\n",
              "      fill: #1967D2;\n",
              "      height: 32px;\n",
              "      padding: 0 0 0 0;\n",
              "      width: 32px;\n",
              "    }\n",
              "\n",
              "    .colab-df-convert:hover {\n",
              "      background-color: #E2EBFA;\n",
              "      box-shadow: 0px 1px 2px rgba(60, 64, 67, 0.3), 0px 1px 3px 1px rgba(60, 64, 67, 0.15);\n",
              "      fill: #174EA6;\n",
              "    }\n",
              "\n",
              "    [theme=dark] .colab-df-convert {\n",
              "      background-color: #3B4455;\n",
              "      fill: #D2E3FC;\n",
              "    }\n",
              "\n",
              "    [theme=dark] .colab-df-convert:hover {\n",
              "      background-color: #434B5C;\n",
              "      box-shadow: 0px 1px 3px 1px rgba(0, 0, 0, 0.15);\n",
              "      filter: drop-shadow(0px 1px 2px rgba(0, 0, 0, 0.3));\n",
              "      fill: #FFFFFF;\n",
              "    }\n",
              "  </style>\n",
              "\n",
              "      <script>\n",
              "        const buttonEl =\n",
              "          document.querySelector('#df-ce9d591f-4233-46ea-9b53-4df4e02b5b6c button.colab-df-convert');\n",
              "        buttonEl.style.display =\n",
              "          google.colab.kernel.accessAllowed ? 'block' : 'none';\n",
              "\n",
              "        async function convertToInteractive(key) {\n",
              "          const element = document.querySelector('#df-ce9d591f-4233-46ea-9b53-4df4e02b5b6c');\n",
              "          const dataTable =\n",
              "            await google.colab.kernel.invokeFunction('convertToInteractive',\n",
              "                                                     [key], {});\n",
              "          if (!dataTable) return;\n",
              "\n",
              "          const docLinkHtml = 'Like what you see? Visit the ' +\n",
              "            '<a target=\"_blank\" href=https://colab.research.google.com/notebooks/data_table.ipynb>data table notebook</a>'\n",
              "            + ' to learn more about interactive tables.';\n",
              "          element.innerHTML = '';\n",
              "          dataTable['output_type'] = 'display_data';\n",
              "          await google.colab.output.renderOutput(dataTable, element);\n",
              "          const docLink = document.createElement('div');\n",
              "          docLink.innerHTML = docLinkHtml;\n",
              "          element.appendChild(docLink);\n",
              "        }\n",
              "      </script>\n",
              "    </div>\n",
              "  </div>\n",
              "  "
            ]
          },
          "metadata": {},
          "execution_count": 3
        }
      ],
      "source": [
        "train_data.head()"
      ]
    },
    {
      "cell_type": "code",
      "execution_count": 4,
      "metadata": {
        "id": "NoLztQZ2QRZf"
      },
      "outputs": [],
      "source": [
        "# Labels as y\n",
        "\n",
        "y = train_data.iloc[:, 0]"
      ]
    },
    {
      "cell_type": "code",
      "source": [
        "# Creating dictionary for mapping predictions\n",
        "\n",
        "y_map = {\n",
        "    0: 'A',\n",
        "    1: 'B',\n",
        "    2: 'C',\n",
        "    3: 'D',\n",
        "    4: 'E',\n",
        "    5: 'F',\n",
        "    6: 'G',\n",
        "    7: 'H',\n",
        "    8: 'I',\n",
        "    9: 'J',\n",
        "    10: 'K',\n",
        "    11: 'L',\n",
        "    12: 'M',\n",
        "    13: 'N',\n",
        "    14: 'O',\n",
        "    15: 'P',\n",
        "    16: 'Q',\n",
        "    17: 'R',\n",
        "    18: 'S',\n",
        "    19: 'T',\n",
        "    20: 'U',\n",
        "    21: 'V',\n",
        "    22: 'W',\n",
        "    23: 'X',\n",
        "    24: 'Y',\n",
        "    25: 'Z'\n",
        "\n",
        "}"
      ],
      "metadata": {
        "id": "XMYHhyOFmrQj"
      },
      "execution_count": 186,
      "outputs": []
    },
    {
      "cell_type": "code",
      "execution_count": 5,
      "metadata": {
        "id": "NbDk3hCbQdGC"
      },
      "outputs": [],
      "source": [
        "# Get data points as matrix for training\n",
        "\n",
        "train_data_f = np.array(train_data.loc[:, train_data.columns != 'label'])\n",
        "train_data_f[np.isnan(train_data_f)] = 0"
      ]
    },
    {
      "cell_type": "code",
      "execution_count": 6,
      "metadata": {
        "colab": {
          "base_uri": "https://localhost:8080/"
        },
        "id": "POA8rY7oQzzm",
        "outputId": "52f05492-0c0c-4fab-a64d-d7aa090f2122"
      },
      "outputs": [
        {
          "output_type": "execute_result",
          "data": {
            "text/plain": [
              "(27455, 784)"
            ]
          },
          "metadata": {},
          "execution_count": 6
        }
      ],
      "source": [
        "train_data_f.shape"
      ]
    },
    {
      "cell_type": "code",
      "execution_count": 7,
      "metadata": {
        "id": "C7_50yCvHlSx"
      },
      "outputs": [],
      "source": [
        "# Normalizing Train Data - Subtracting mean and Dividing by SD\n",
        "train_mean = np.mean(train_data_f)\n",
        "train_sd = np.std(train_data_f)\n",
        "train_norm = (train_data_f - train_mean)/train_sd"
      ]
    },
    {
      "cell_type": "code",
      "execution_count": 8,
      "metadata": {
        "colab": {
          "base_uri": "https://localhost:8080/"
        },
        "id": "JcZmEsTEJG-z",
        "outputId": "cca7c02d-9a4b-4320-b1b7-a44a320113f4"
      },
      "outputs": [
        {
          "output_type": "execute_result",
          "data": {
            "text/plain": [
              "(27455, 784)"
            ]
          },
          "metadata": {},
          "execution_count": 8
        }
      ],
      "source": [
        "train_norm.shape"
      ]
    },
    {
      "cell_type": "code",
      "execution_count": 9,
      "metadata": {
        "id": "6kM3Q8ToVk4K"
      },
      "outputs": [],
      "source": [
        "# x_train = train_norm.reshape(-1, 28, 28, 1)\n",
        "x_train = train_norm.reshape((27455, 28,28))"
      ]
    },
    {
      "cell_type": "code",
      "execution_count": 10,
      "metadata": {
        "colab": {
          "base_uri": "https://localhost:8080/"
        },
        "id": "UpfmO5nlWfkX",
        "outputId": "a0170b3a-28a2-4227-f32a-efb3480e9549"
      },
      "outputs": [
        {
          "output_type": "execute_result",
          "data": {
            "text/plain": [
              "(27455, 28, 28)"
            ]
          },
          "metadata": {},
          "execution_count": 10
        }
      ],
      "source": [
        "x_train.shape"
      ]
    },
    {
      "cell_type": "code",
      "execution_count": 11,
      "metadata": {
        "id": "sipWr31BW3rr"
      },
      "outputs": [],
      "source": [
        "x_train = x_train.reshape(-1, 28, 28, 1)"
      ]
    },
    {
      "cell_type": "code",
      "execution_count": 12,
      "metadata": {
        "colab": {
          "base_uri": "https://localhost:8080/"
        },
        "id": "ad6jpyt3XF4U",
        "outputId": "04535100-6fc8-4a72-b48f-9d059681cdcc"
      },
      "outputs": [
        {
          "output_type": "execute_result",
          "data": {
            "text/plain": [
              "(27455, 28, 28, 1)"
            ]
          },
          "metadata": {},
          "execution_count": 12
        }
      ],
      "source": [
        "x_train.shape"
      ]
    },
    {
      "cell_type": "code",
      "execution_count": 13,
      "metadata": {
        "id": "qwwmDv9ZSgsO"
      },
      "outputs": [],
      "source": [
        "# CNN Training libraries import\n",
        "\n",
        "import tensorflow as tf\n",
        "from tensorflow.keras import layers\n",
        "from tensorflow.keras import activations\n",
        "from tensorflow.keras.models import Sequential\n",
        "from tensorflow.keras.layers import InputLayer\n",
        "from tensorflow.keras.layers import Dense\n",
        "from tensorflow.keras.layers import Flatten\n",
        "from tensorflow.keras.layers import Convolution2D\n",
        "from tensorflow.keras.layers import MaxPooling2D\n",
        "from tensorflow.keras.layers import Dropout\n",
        "from tensorflow.keras.regularizers import l2\n",
        "from sklearn.utils import shuffle\n",
        "from tensorflow.keras.utils import to_categorical\n",
        "tf.random.set_seed(42)"
      ]
    },
    {
      "cell_type": "code",
      "execution_count": 14,
      "metadata": {
        "id": "wCh_iBeSSefU"
      },
      "outputs": [],
      "source": [
        "def build_model():\n",
        "\n",
        "    model = tf.keras.Sequential([\n",
        "      tf.keras.layers.Conv2D(128, (2,2), padding='same', activation='relu'),\n",
        "      tf.keras.layers.MaxPooling2D((4, 4), strides=4),\n",
        "      tf.keras.layers.Dropout(0.5),\n",
        "      tf.keras.layers.Flatten(),\n",
        "      tf.keras.layers.Dense(64, activation='tanh', kernel_regularizer=l2()),      \n",
        "      tf.keras.layers.Dense(units=25, activation='sigmoid')\n",
        "    ])\n",
        "    \n",
        "    model.compile(loss = tf.keras.losses.CategoricalCrossentropy(), optimizer='adam', metrics=['AUC', tf.keras.metrics.Precision(), tf.keras.metrics.Recall(), 'accuracy'])\n",
        "    print (model.summary)\n",
        "\n",
        "    return model"
      ]
    },
    {
      "cell_type": "code",
      "execution_count": 15,
      "metadata": {
        "id": "VxMBlJSparZX"
      },
      "outputs": [],
      "source": [
        "y_train = to_categorical(y)"
      ]
    },
    {
      "cell_type": "code",
      "execution_count": 16,
      "metadata": {
        "colab": {
          "base_uri": "https://localhost:8080/"
        },
        "id": "XbfnBA15SqyE",
        "outputId": "c9c6a6d6-23cc-4f5d-868d-919e910dd86e"
      },
      "outputs": [
        {
          "output_type": "stream",
          "name": "stdout",
          "text": [
            "<bound method Model.summary of <keras.engine.sequential.Sequential object at 0x7f9f3bba44f0>>\n",
            "Epoch 1/10\n",
            "858/858 [==============================] - 43s 48ms/step - loss: 1.3418 - auc: 0.9641 - precision: 0.0867 - recall: 0.9906 - accuracy: 0.7968\n",
            "Epoch 2/10\n",
            "858/858 [==============================] - 40s 46ms/step - loss: 0.7442 - auc: 0.9871 - precision: 0.0898 - recall: 0.9999 - accuracy: 0.9165\n",
            "Epoch 3/10\n",
            "858/858 [==============================] - 39s 45ms/step - loss: 0.6553 - auc: 0.9808 - precision: 0.0903 - recall: 0.9999 - accuracy: 0.9310\n",
            "Epoch 4/10\n",
            "858/858 [==============================] - 39s 45ms/step - loss: 0.6188 - auc: 0.9748 - precision: 0.0907 - recall: 1.0000 - accuracy: 0.9374\n",
            "Epoch 5/10\n",
            "858/858 [==============================] - 39s 45ms/step - loss: 0.6080 - auc: 0.9699 - precision: 0.0907 - recall: 1.0000 - accuracy: 0.9396\n",
            "Epoch 6/10\n",
            "858/858 [==============================] - 40s 47ms/step - loss: 0.5792 - auc: 0.9650 - precision: 0.0905 - recall: 1.0000 - accuracy: 0.9417\n",
            "Epoch 7/10\n",
            "858/858 [==============================] - 39s 45ms/step - loss: 0.5699 - auc: 0.9606 - precision: 0.0904 - recall: 1.0000 - accuracy: 0.9451\n",
            "Epoch 8/10\n",
            "858/858 [==============================] - 39s 45ms/step - loss: 0.5579 - auc: 0.9584 - precision: 0.0910 - recall: 1.0000 - accuracy: 0.9477\n",
            "Epoch 9/10\n",
            "858/858 [==============================] - 39s 45ms/step - loss: 0.5504 - auc: 0.9546 - precision: 0.0911 - recall: 1.0000 - accuracy: 0.9486\n",
            "Epoch 10/10\n",
            "858/858 [==============================] - 40s 47ms/step - loss: 0.5610 - auc: 0.9524 - precision: 0.0911 - recall: 1.0000 - accuracy: 0.9487\n"
          ]
        }
      ],
      "source": [
        "model = build_model()\n",
        "history = model.fit(x_train, y_train, batch_size=32, epochs = 10)"
      ]
    },
    {
      "cell_type": "code",
      "source": [
        "# Testing - X Test Normalization\n",
        "\n",
        "# Labels as y\n",
        "\n",
        "y = test_data.iloc[:, 0]\n",
        "\n",
        "# Get data points as matrix for training\n",
        "\n",
        "test_data_f = np.array(test_data.loc[:, test_data.columns != 'label'])\n",
        "test_data_f[np.isnan(test_data_f)] = 0\n",
        "\n",
        "# Normalizing Train Data - Subtracting mean and Dividing by SD\n",
        "test_mean = np.mean(test_data_f)\n",
        "test_sd = np.std(test_data_f)\n",
        "test_norm = (test_data_f - test_mean)/test_sd\n",
        "\n",
        "# Reshaping data\n",
        "x_test = test_norm.reshape((7172, 28,28))\n",
        "x_test = test_norm.reshape(-1, 28, 28, 1)"
      ],
      "metadata": {
        "id": "3qhaYg8TOQqf"
      },
      "execution_count": 21,
      "outputs": []
    },
    {
      "cell_type": "code",
      "source": [
        "x_test.shape"
      ],
      "metadata": {
        "colab": {
          "base_uri": "https://localhost:8080/"
        },
        "id": "F8CxThf0V0MO",
        "outputId": "044d3192-48e7-4560-84f8-b860a69c89ec"
      },
      "execution_count": 85,
      "outputs": [
        {
          "output_type": "execute_result",
          "data": {
            "text/plain": [
              "(7172, 28, 28, 1)"
            ]
          },
          "metadata": {},
          "execution_count": 85
        }
      ]
    },
    {
      "cell_type": "code",
      "source": [
        "y_pred = model.predict(x_test)"
      ],
      "metadata": {
        "colab": {
          "base_uri": "https://localhost:8080/"
        },
        "id": "lOhDACc5PXKF",
        "outputId": "35dc5f0d-9414-4b50-c0d5-ba7b71bf3a94"
      },
      "execution_count": 23,
      "outputs": [
        {
          "output_type": "stream",
          "name": "stdout",
          "text": [
            "225/225 [==============================] - 3s 11ms/step\n"
          ]
        }
      ]
    },
    {
      "cell_type": "code",
      "source": [
        "y_pred_act = [];\n",
        "\n",
        "for i in y_pred:\n",
        "  ind_max = np.argmax(i)\n",
        "  y_pred_act.append(ind_max)"
      ],
      "metadata": {
        "id": "k8hRL96XP92H"
      },
      "execution_count": 33,
      "outputs": []
    },
    {
      "cell_type": "code",
      "source": [
        "from sklearn.metrics import accuracy_score\n",
        "\n",
        "accuracy_score(y, y_pred_act)"
      ],
      "metadata": {
        "colab": {
          "base_uri": "https://localhost:8080/"
        },
        "id": "vAUVqaNuPeAg",
        "outputId": "585cc34b-4392-43f2-a8ea-c9724156d416"
      },
      "execution_count": 34,
      "outputs": [
        {
          "output_type": "execute_result",
          "data": {
            "text/plain": [
              "0.8881762409369771"
            ]
          },
          "metadata": {},
          "execution_count": 34
        }
      ]
    },
    {
      "cell_type": "code",
      "execution_count": 35,
      "metadata": {
        "colab": {
          "base_uri": "https://localhost:8080/"
        },
        "id": "U9YZYWeUS2bw",
        "outputId": "5e573f30-6337-4240-8c75-57400a659813"
      },
      "outputs": [
        {
          "output_type": "stream",
          "name": "stdout",
          "text": [
            "dict_keys(['loss', 'auc', 'precision', 'recall', 'accuracy'])\n"
          ]
        }
      ],
      "source": [
        "####################################\n",
        "# PLOT :                           #\n",
        "# train loss vs val loss           #\n",
        "# train auc vs val auc             #\n",
        "# train recall vs val recall       #\n",
        "# train precision vs val precision #\n",
        "# train accuracy vs val accuracy   #\n",
        "####################################\n",
        "\n",
        "print(history.history.keys())\n",
        "train_loss = history.history['loss']\n",
        "train_auc = history.history['auc']\n",
        "train_acc = history.history['accuracy']\n",
        "train_recall = history.history['recall']\n",
        "train_prec = history.history['precision']"
      ]
    },
    {
      "cell_type": "code",
      "execution_count": 36,
      "metadata": {
        "colab": {
          "base_uri": "https://localhost:8080/",
          "height": 295
        },
        "id": "z8HKJ6sRdMwA",
        "outputId": "b82531ac-244a-477b-e66f-76d884db2ff6"
      },
      "outputs": [
        {
          "output_type": "display_data",
          "data": {
            "text/plain": [
              "<Figure size 432x288 with 1 Axes>"
            ],
            "image/png": "[encoded data removed]"
          },
          "metadata": {
            "needs_background": "light"
          }
        }
      ],
      "source": [
        "# Plot and label the =loss values\n",
        "plt.plot(list(range(0,10)), train_loss)\n",
        " \n",
        "# Add in a title and axes labels\n",
        "plt.title('Training Loss')\n",
        "plt.xlabel('Epochs')\n",
        "plt.ylabel('Loss')\n",
        "\n",
        "# Display the plot\n",
        "plt.show()"
      ]
    },
    {
      "cell_type": "code",
      "execution_count": 37,
      "metadata": {
        "colab": {
          "base_uri": "https://localhost:8080/",
          "height": 295
        },
        "id": "XAfUWTzjdkbc",
        "outputId": "004c0ad9-eb14-434a-86f1-4ab7b090ae1b"
      },
      "outputs": [
        {
          "output_type": "display_data",
          "data": {
            "text/plain": [
              "<Figure size 432x288 with 1 Axes>"
            ],
            "image/png": "[encoded data removed]"
          },
          "metadata": {
            "needs_background": "light"
          }
        }
      ],
      "source": [
        "# Plot and label the accuracy values\n",
        "plt.plot(list(range(0,10)), train_acc)\n",
        " \n",
        "# Add in a title and axes labels\n",
        "plt.title('Training Accuracy')\n",
        "plt.xlabel('Epochs')\n",
        "plt.ylabel('Accuracy')\n",
        "\n",
        "# Display the plot\n",
        "plt.show()"
      ]
    },
    {
      "cell_type": "code",
      "execution_count": 38,
      "metadata": {
        "colab": {
          "base_uri": "https://localhost:8080/",
          "height": 295
        },
        "id": "G0INYpTed1wT",
        "outputId": "9124409b-63c2-4614-e572-e27afe4eb0ed"
      },
      "outputs": [
        {
          "output_type": "display_data",
          "data": {
            "text/plain": [
              "<Figure size 432x288 with 1 Axes>"
            ],
            "image/png": "[encoded data removed]"
          },
          "metadata": {
            "needs_background": "light"
          }
        }
      ],
      "source": [
        "# Plot and label the AUC values\n",
        "plt.plot(list(range(0,10)), train_auc)\n",
        " \n",
        "# Add in a title and axes labels\n",
        "plt.title('Training AUC')\n",
        "plt.xlabel('Epochs')\n",
        "plt.ylabel('AUC')\n",
        "\n",
        "# Display the plot\n",
        "plt.show()"
      ]
    },
    {
      "cell_type": "code",
      "execution_count": 39,
      "metadata": {
        "colab": {
          "base_uri": "https://localhost:8080/",
          "height": 295
        },
        "id": "Zl4xHBIJd-yM",
        "outputId": "c902d07a-1e3c-4850-f187-77b112eb06b4"
      },
      "outputs": [
        {
          "output_type": "display_data",
          "data": {
            "text/plain": [
              "<Figure size 432x288 with 1 Axes>"
            ],
            "image/png": "[encoded data removed]"
          },
          "metadata": {
            "needs_background": "light"
          }
        }
      ],
      "source": [
        "# Plot and label the Recall values\n",
        "plt.plot(list(range(0,10)), train_recall)\n",
        " \n",
        "# Add in a title and axes labels\n",
        "plt.title('Training Recall')\n",
        "plt.xlabel('Epochs')\n",
        "plt.ylabel('Recall')\n",
        "\n",
        "# Display the plot\n",
        "plt.show()"
      ]
    },
    {
      "cell_type": "code",
      "execution_count": 40,
      "metadata": {
        "colab": {
          "base_uri": "https://localhost:8080/",
          "height": 295
        },
        "id": "TfH4OsA2gMOC",
        "outputId": "d53261fc-aa8c-4652-c662-c09215163192"
      },
      "outputs": [
        {
          "output_type": "display_data",
          "data": {
            "text/plain": [
              "<Figure size 432x288 with 1 Axes>"
            ],
            "image/png": "[encoded data removed]"
          },
          "metadata": {
            "needs_background": "light"
          }
        }
      ],
      "source": [
        "# Plot and label the Precision values\n",
        "plt.plot(list(range(0,10)), train_prec)\n",
        " \n",
        "# Add in a title and axes labels\n",
        "plt.title('Training Precision')\n",
        "plt.xlabel('Epochs')\n",
        "plt.ylabel('Precision')\n",
        "\n",
        "# Display the plot\n",
        "plt.show()"
      ]
    },
    {
      "cell_type": "markdown",
      "metadata": {
        "id": "oEzzxS838s7n"
      },
      "source": [
        "## BUILDING THE USER INTERFACE"
      ]
    },
    {
      "cell_type": "code",
      "execution_count": 43,
      "metadata": {
        "id": "UPdCAqqc8s7r"
      },
      "outputs": [],
      "source": [
        "import gradio as gr"
      ]
    },
    {
      "cell_type": "code",
      "source": [
        "pos = 80\n",
        "img = np.array(test_data[pos:pos+1].loc[:, test_data.columns != 'label'])\n",
        "img = img.reshape(28, 28)"
      ],
      "metadata": {
        "id": "tQ6IT2wgUGHN"
      },
      "execution_count": 208,
      "outputs": []
    },
    {
      "cell_type": "code",
      "source": [
        "# Check results\n",
        "print(\"Actual Label associated with sign is : \", y_map[int(np.array(test_data[pos:pos+1].loc[:, test_data.columns == 'label']))])"
      ],
      "metadata": {
        "colab": {
          "base_uri": "https://localhost:8080/"
        },
        "id": "7mUL78ptp8Ds",
        "outputId": "7d2a7a54-dcfd-49eb-a151-f13fc823c929"
      },
      "execution_count": 209,
      "outputs": [
        {
          "output_type": "stream",
          "name": "stdout",
          "text": [
            "Actual Label associated with sign is :  R\n"
          ]
        }
      ]
    },
    {
      "cell_type": "code",
      "source": [
        "plt.imshow(img, cmap = 'gray')\n",
        "\n",
        "# # for saving the matrix itself\n",
        "from PIL import Image\n",
        "\n",
        "im = Image.fromarray(img.astype(np.uint8))\n",
        "im.save(\"sign_img.png\")"
      ],
      "metadata": {
        "colab": {
          "base_uri": "https://localhost:8080/",
          "height": 265
        },
        "id": "T1kNvsOlYe8u",
        "outputId": "f794ee1a-96fa-4bf2-a5f4-132486a6d536"
      },
      "execution_count": 210,
      "outputs": [
        {
          "output_type": "display_data",
          "data": {
            "text/plain": [
              "<Figure size 432x288 with 1 Axes>"
            ],
            "image/png": "[encoded data removed]"
          },
          "metadata": {
            "needs_background": "light"
          }
        }
      ]
    },
    {
      "cell_type": "code",
      "source": [
        "import imageio.v3 as iio\n",
        "\n",
        "im = iio.imread('stf_arr.png')\n",
        "print(im.shape)"
      ],
      "metadata": {
        "colab": {
          "base_uri": "https://localhost:8080/"
        },
        "id": "O4RDFP3-WwMM",
        "outputId": "e62a340c-9a08-496a-fcb1-d91c76c4fb2f"
      },
      "execution_count": 112,
      "outputs": [
        {
          "output_type": "stream",
          "name": "stdout",
          "text": [
            "(28, 28)\n"
          ]
        }
      ]
    },
    {
      "cell_type": "code",
      "source": [
        "# img = tf.image.resize(img, (28, 28))\n",
        "img = np.array(img).flatten()\n",
        "\n",
        "# # Reshaping data\n",
        "new_img = (img - test_mean)/test_sd\n",
        "\n",
        "# Reshaping data\n",
        "img_test = new_img.reshape((1, 28,28))\n",
        "img_cnn_test = new_img.reshape(-1, 28, 28, 1)\n",
        "\n",
        "# # # Run prediction\n",
        "\n",
        "y_pred = model.predict(img_cnn_test)\n",
        "ind_max = np.argmax(y_pred)\n",
        "\n",
        "# # Return prediction\n",
        "print('prediction', ind_max, 'confidence', str(y_pred[0][ind_max]))"
      ],
      "metadata": {
        "colab": {
          "base_uri": "https://localhost:8080/"
        },
        "id": "L0wtPSyGUEi_",
        "outputId": "549ca1d0-aee1-430c-a7e1-b8a17dde2dab"
      },
      "execution_count": 119,
      "outputs": [
        {
          "output_type": "stream",
          "name": "stdout",
          "text": [
            "1/1 [==============================] - 0s 26ms/step\n",
            "prediction 6 confidence 0.99999964\n"
          ]
        }
      ]
    },
    {
      "cell_type": "code",
      "execution_count": 187,
      "metadata": {
        "id": "NMsEpLEA8s7t"
      },
      "outputs": [],
      "source": [
        "# Define function to run prediction on image\n",
        "def classify_image(img):\n",
        "  try:\n",
        "    img = tf.image.resize(img, (28, 28))\n",
        "    img = np.mean(img, axis=2)\n",
        "    img = np.array(img).flatten()\n",
        "\n",
        "    # # Reshaping data\n",
        "    new_img = (img - test_mean)/test_sd\n",
        "\n",
        "    # Reshaping data\n",
        "    # img_test = new_img.reshape((1, 28,28))\n",
        "    img_cnn_test = new_img.reshape(-1, 28, 28, 1)\n",
        "\n",
        "    # # # Run prediction\n",
        "\n",
        "    y_pred = model.predict(img_cnn_test)\n",
        "    ind_max = np.argmax(y_pred)\n",
        "    y_val = y_map[ind_max]\n",
        "    return 'Prediction : ' + str(y_val) + ' with Confidence : ' + str(y_pred[0][ind_max])\n",
        "    # return str(ind_max)\n",
        "\n",
        "  except Exception as e:\n",
        "    return str(e)"
      ]
    },
    {
      "cell_type": "code",
      "execution_count": 188,
      "metadata": {
        "colab": {
          "base_uri": "https://localhost:8080/",
          "height": 760
        },
        "id": "L_F3yHWA8s7u",
        "outputId": "d34388a3-2628-4d5f-83a3-be8c7f2fff95"
      },
      "outputs": [
        {
          "output_type": "stream",
          "name": "stderr",
          "text": [
            "/usr/local/lib/python3.9/dist-packages/gradio/inputs.py:257: UserWarning: Usage of gradio.inputs is deprecated, and will not be supported in the future, please import your component from gradio.components\n",
            "  warnings.warn(\n",
            "/usr/local/lib/python3.9/dist-packages/gradio/deprecation.py:40: UserWarning: `optional` parameter is deprecated, and it has no effect\n",
            "  warnings.warn(value)\n",
            "/usr/local/lib/python3.9/dist-packages/gradio/outputs.py:197: UserWarning: Usage of gradio.outputs is deprecated, and will not be supported in the future, please import your components from gradio.components\n",
            "  warnings.warn(\n",
            "/usr/local/lib/python3.9/dist-packages/gradio/deprecation.py:40: UserWarning: The 'type' parameter has been deprecated. Use the Number component instead.\n",
            "  warnings.warn(value)\n"
          ]
        },
        {
          "output_type": "stream",
          "name": "stdout",
          "text": [
            "Colab notebook detected. To show errors in colab notebook, set debug=True in launch()\n",
            "Running on public URL: https://2df4e25d2c13a4506b.gradio.live\n",
            "\n",
            "This share link expires in 72 hours. For free permanent hosting and GPU upgrades (NEW!), check out Spaces: https://huggingface.co/spaces\n"
          ]
        },
        {
          "output_type": "display_data",
          "data": {
            "text/plain": [
              "<IPython.core.display.HTML object>"
            ],
            "text/html": [
              "<div><iframe src=\"https://2df4e25d2c13a4506b.gradio.live\" width=\"100%\" height=\"500\" allow=\"autoplay; camera; microphone; clipboard-read; clipboard-write;\" frameborder=\"0\" allowfullscreen></iframe></div>"
            ]
          },
          "metadata": {}
        },
        {
          "output_type": "execute_result",
          "data": {
            "text/plain": []
          },
          "metadata": {},
          "execution_count": 188
        }
      ],
      "source": [
        "# Create interface\n",
        "inputs = gr.inputs.Image()\n",
        "outputs = gr.outputs.Label(num_top_classes=1)\n",
        "interface = gr.Interface(fn=classify_image, inputs=inputs, outputs=outputs)\n",
        "\n",
        "# Launch interface\n",
        "interface.launch(share=True, inbrowser=True)"
      ]
    },
    {
      "cell_type": "code",
      "source": [],
      "metadata": {
        "id": "EniT417agMZz"
      },
      "execution_count": null,
      "outputs": []
    }
  ],
  "metadata": {
    "colab": {
      "provenance": []
    },
    "kernelspec": {
      "display_name": "Python 3",
      "language": "python",
      "name": "python3"
    },
    "language_info": {
      "codemirror_mode": {
        "name": "ipython",
        "version": 3
      },
      "file_extension": ".py",
      "mimetype": "text/x-python",
      "name": "python",
      "nbconvert_exporter": "python",
      "pygments_lexer": "ipython3",
      "version": "3.8.8"
    }
  },
  "nbformat": 4,
  "nbformat_minor": 0
}